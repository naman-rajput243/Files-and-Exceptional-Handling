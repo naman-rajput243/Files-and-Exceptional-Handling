{
  "nbformat": 4,
  "nbformat_minor": 0,
  "metadata": {
    "colab": {
      "provenance": []
    },
    "kernelspec": {
      "name": "python3",
      "display_name": "Python 3"
    },
    "language_info": {
      "name": "python"
    }
  },
  "cells": [
    {
      "cell_type": "markdown",
      "source": [
        "1)  What is the difference between interpreted and compiled languages ?\n",
        "\n",
        "Ans) Compiled Language : Are those source code which is translated by machine code by the compiler before execution\n",
        "\n",
        "Interpreted Language : Are those source code which is executed line by line by the interpreter at the time of execution"
      ],
      "metadata": {
        "id": "RlO9KO33_W-I"
      }
    },
    {
      "cell_type": "markdown",
      "source": [
        "2) What is exception handling in Python ?\n",
        "\n",
        "Ans) Exceptional handling refers to handling of error (exceptions) in the program for the proper and normal functioning of the program"
      ],
      "metadata": {
        "id": "YQASV40kBICr"
      }
    },
    {
      "cell_type": "markdown",
      "source": [
        "3) What is the purpose of the finally block in exception handling ?\n",
        "\n",
        "Ans) The statements or code in finally block executes always whether there is exception or not."
      ],
      "metadata": {
        "id": "9TgjwKaABi6T"
      }
    },
    {
      "cell_type": "markdown",
      "source": [
        "4) What is logging in Python ?\n",
        "\n",
        "Ans) Logging refers to tracking of events during the execution of the program"
      ],
      "metadata": {
        "id": "AmlMnxxzB6Ly"
      }
    },
    {
      "cell_type": "markdown",
      "source": [
        "5) What is the significance of the __del__ method in Python ?\n",
        "\n",
        "Ans) The significance of __del__ is to delete a specific method"
      ],
      "metadata": {
        "id": "Fj-MGaKACHcT"
      }
    },
    {
      "cell_type": "markdown",
      "source": [
        "6)  What is the difference between import and from ... import in Python ?\n",
        "\n",
        "Ans) import ----> Imports the entire module\n",
        "\n",
        "from .... import ----> Imports the specific components as mentioned"
      ],
      "metadata": {
        "id": "5sXaVVKTCZnr"
      }
    },
    {
      "cell_type": "markdown",
      "source": [
        "7)  How can you handle multiple exceptions in Python ?\n",
        "\n",
        "Ans) Multiple exceptions can be handled by mentioning the exceptions in the except block\n",
        "\n",
        "Example : except(Exception1 , Exception2 , Exception 3 , .......)\n"
      ],
      "metadata": {
        "id": "zx8OD5aUC7nI"
      }
    },
    {
      "cell_type": "markdown",
      "source": [
        "8) What is the purpose of the with statement when handling files in Python ?\n",
        "\n",
        "Ans) With statment ensures the closure of file after execution of task ensuring data security."
      ],
      "metadata": {
        "id": "YrdqFVviDaA2"
      }
    },
    {
      "cell_type": "markdown",
      "source": [
        "9) What is the difference between multithreading and multiprocessing ?\n",
        "\n",
        "Ans) Multithreading takes place in different and multiple threads but inside a single processor only.\n",
        "\n",
        "Multiprocessing takes place in different and multiple processors."
      ],
      "metadata": {
        "id": "C2Uq_I3HDsjU"
      }
    },
    {
      "cell_type": "markdown",
      "source": [
        "10)  What are the advantages of using logging in a program ?\n",
        "\n",
        "Ans) a) Helps to identify exceptions and debug it\n",
        "\n",
        "b) Helps in monitoring of the entire code\n",
        "\n",
        "c) Helps to keep the track of importants events inside the program"
      ],
      "metadata": {
        "id": "Hi2wcYWsEFu_"
      }
    },
    {
      "cell_type": "markdown",
      "source": [
        "11) What is memory management in Python ?\n",
        "\n",
        "Ans) Memory Management in Python ensures the efficient use of the memory and plays a crucial role in the execution of the programs"
      ],
      "metadata": {
        "id": "H0DZG7XsEhd4"
      }
    },
    {
      "cell_type": "markdown",
      "source": [
        "12) What are the basic steps involved in exception handling in Python ?\n",
        "\n",
        "Ans) DEBUG , INFO , ERROR , CRITICAL"
      ],
      "metadata": {
        "id": "QR_QypeeE8a-"
      }
    },
    {
      "cell_type": "markdown",
      "source": [
        "13)  Why is memory management important in Python ?\n",
        "\n",
        "Ans) Memory Management is important and plays a crucial role as it ensures the better allocation and use of memory."
      ],
      "metadata": {
        "id": "m5_FYm1yFONp"
      }
    },
    {
      "cell_type": "markdown",
      "source": [
        "14) What is the role of try and except in exception handling ?\n",
        "\n",
        "Ans) Role of try and except in exceptional handling is try block checks the error and if error is detected the except block is executed"
      ],
      "metadata": {
        "id": "zTIhxSxmFgAU"
      }
    },
    {
      "cell_type": "markdown",
      "source": [
        "15) How does Python's garbage collection system work ?\n",
        "\n",
        "Ans) During the reassigning of object to a certain variable which was already defined the blank alloacted before the reassigning is taken back. The automatic reclaimation of the blank space is the garbage collection"
      ],
      "metadata": {
        "id": "YQIFHK5jFu0s"
      }
    },
    {
      "cell_type": "markdown",
      "source": [
        "16)  What is the purpose of the else block in exception handling ?\n",
        "\n",
        "Ans) If there is no exception in the code then the program in else block gets executed"
      ],
      "metadata": {
        "id": "ayeF8VXBGU6m"
      }
    },
    {
      "cell_type": "markdown",
      "source": [
        "17) What are the common logging levels in Python ?\n",
        "\n",
        "Ans) The common logging levels in python are\n",
        "\n",
        "DEBUG\n",
        "\n",
        "INFO\n",
        "\n",
        "WARNING\n",
        "\n",
        "ERROR\n",
        "\n",
        "CRITICAL\n",
        "\n"
      ],
      "metadata": {
        "id": "YPG77ndTGpmv"
      }
    },
    {
      "cell_type": "markdown",
      "source": [
        "18) What is the difference between os.fork() and multiprocessing in Python ?\n",
        "\n",
        "Ans) os.fork is the low level system call. It has platform limitation and it's memory is also shared between the parent and child class\n",
        "\n",
        "Whereas multiprocessing is a high level system call. It is a cross-platform and also has an independent memory."
      ],
      "metadata": {
        "id": "DNtSLBBaHCC1"
      }
    },
    {
      "cell_type": "markdown",
      "source": [
        "19) What is the importance of closing a file in Python ?\n",
        "\n",
        "Ans) It ensures data protection and maintain the privacy and saves the files from corruption and it also cleans up the resources"
      ],
      "metadata": {
        "id": "ufWZyhRLHz__"
      }
    },
    {
      "cell_type": "markdown",
      "source": [
        "20) What is the difference between file.read() and file.readline() in Python ?\n",
        "\n",
        "Ans) In file.read() it starts reading from where the cursor is placed till the last and in file.readline() it will only read the first line"
      ],
      "metadata": {
        "id": "kKnqPp7-IMbt"
      }
    },
    {
      "cell_type": "markdown",
      "source": [
        "21) What is the logging module in Python used for ?\n",
        "\n",
        "And) The logging module in Python is used for exceptional handling and to keep the track of the event in the code.  "
      ],
      "metadata": {
        "id": "2llsHYhLIm8S"
      }
    },
    {
      "cell_type": "markdown",
      "source": [
        "22) What is the os module in Python used for in file handling ?\n",
        "\n",
        "Ans) The os module helps in navigating the files, adding or removing the file and inspecting the path and directory of the file"
      ],
      "metadata": {
        "id": "U2f5eAm5Iz_b"
      }
    },
    {
      "cell_type": "markdown",
      "source": [
        "23) What are the challenges associated with memory management in Python ?\n",
        "\n",
        "Ans) a) Garbage collection which is generally a automatic process does not remain automatic anymore.\n",
        "\n",
        "b) There are also chances of memory leaks"
      ],
      "metadata": {
        "id": "QzocKdyJJKm7"
      }
    },
    {
      "cell_type": "markdown",
      "source": [
        "24) How do you raise an exception manually in Python ?\n",
        "\n",
        "Ans) We can raise exception manually by using the keyword \"raise\" instead of \"print\""
      ],
      "metadata": {
        "id": "MSgZEApGJz04"
      }
    },
    {
      "cell_type": "markdown",
      "source": [
        "25) Why is it important to use multithreading in certain applications?\n",
        "\n",
        "Ans) It allow parallelism that is executing code side by side in parallel which reduces the run time and saves our time and make the program time efficient."
      ],
      "metadata": {
        "id": "cm1QveJFKEul"
      }
    },
    {
      "cell_type": "code",
      "source": [
        "# 1)  How can you open a file for writing in Python and write a string to it\n",
        "\n",
        "file = open(\"file.txt\", \"w\")\n",
        "file.write(\"Hello World This is Naman Singh Rajput\")\n",
        "file.close()"
      ],
      "metadata": {
        "id": "RD-LXc4eJOhn"
      },
      "execution_count": 44,
      "outputs": []
    },
    {
      "cell_type": "code",
      "source": [
        "# 2) Write a Python program to read the contents of a file and print each line\n",
        "\n",
        "file = open(\"file.txt\", \"r\")\n",
        "print(file.readlines())\n",
        "file.close()"
      ],
      "metadata": {
        "colab": {
          "base_uri": "https://localhost:8080/"
        },
        "id": "T4KKVzltPRI0",
        "outputId": "cfb76293-bd2c-4dd9-ec36-ed14ff8dbf93"
      },
      "execution_count": null,
      "outputs": [
        {
          "output_type": "stream",
          "name": "stdout",
          "text": [
            "['Hello World This is Naman Singh Rajput']\n"
          ]
        }
      ]
    },
    {
      "cell_type": "code",
      "source": [
        "# 3)  How would you handle a case where the file doesn't exist while trying to open it for reading ?\n",
        "\n",
        "try :\n",
        "  files.open()\n",
        "except (NameError, FileNotFoundError):\n",
        "  print(\"The file is not there in the directory\")"
      ],
      "metadata": {
        "colab": {
          "base_uri": "https://localhost:8080/"
        },
        "id": "3Y_NUwOMQXb_",
        "outputId": "5039146a-d400-4405-b54d-a47953369b76"
      },
      "execution_count": null,
      "outputs": [
        {
          "output_type": "stream",
          "name": "stdout",
          "text": [
            "The file is not there in the directory\n"
          ]
        }
      ]
    },
    {
      "cell_type": "code",
      "source": [
        "# 4)  Write a Python script that reads from one file and writes its content to another file\n",
        "\n",
        "file = open(\"file.txt\", \"r\")\n",
        "content = file.readlines()\n",
        "file2 = open(\"file_copy\", \"w\")\n",
        "file2.write(str(content))\n",
        "file2.close()"
      ],
      "metadata": {
        "id": "spDSUF78Q0Pf"
      },
      "execution_count": null,
      "outputs": []
    },
    {
      "cell_type": "code",
      "source": [
        "# 5) How would you catch and handle division by zero error in Python\n",
        "\n",
        "try:\n",
        "  5 / 0\n",
        "except (ZeroDivisionError):\n",
        "  print(\"Number cannot be divided by zero\")"
      ],
      "metadata": {
        "colab": {
          "base_uri": "https://localhost:8080/"
        },
        "id": "9KmTuzGPRhE2",
        "outputId": "b6bdb9dc-c6ec-4ab6-ccf2-bb69081219aa"
      },
      "execution_count": null,
      "outputs": [
        {
          "output_type": "stream",
          "name": "stdout",
          "text": [
            "Number cannot be divided by zero\n"
          ]
        }
      ]
    },
    {
      "cell_type": "code",
      "source": [
        "# 6) Write a Python program that logs an error message to a log file when a division by zero exception occurs\n",
        "\n",
        "import logging\n",
        "logging.basicConfig(filename=\"error_log.log\", level=logging.ERROR, format='%(asctime)s - %(levelname)s - %(message)s')\n",
        "def divide(a,b):\n",
        "  try:\n",
        "    result = a / b\n",
        "    return result\n",
        "  except ZeroDivisionError as e:\n",
        "    logging.error(\"Number cannot be divided  by 0\")\n",
        "    return None\n",
        "\n",
        "\n",
        "output = divide(10, 0)"
      ],
      "metadata": {
        "colab": {
          "base_uri": "https://localhost:8080/"
        },
        "id": "XRtfj4AOSMM9",
        "outputId": "08d84d74-433b-4442-b571-2f6f84a364e2"
      },
      "execution_count": null,
      "outputs": [
        {
          "output_type": "stream",
          "name": "stderr",
          "text": [
            "ERROR:root:Number cannot be divided  by 0\n"
          ]
        }
      ]
    },
    {
      "cell_type": "code",
      "source": [
        "# 7) How do you log information at different levels (INFO, ERROR, WARNING) in Python using the logging module\n",
        "\n",
        "import logging\n",
        "logging.basicConfig(filename=\"msg_log.log\", level=logging.INFO, format=\"%(asctime)s - %(levelname)s - %(message)s\")\n",
        "logging.info(\"This is the info message\")\n",
        "logging.error(\"This is the error message\")\n",
        "logging.warning(\"This is the warning message\")"
      ],
      "metadata": {
        "colab": {
          "base_uri": "https://localhost:8080/"
        },
        "id": "cA65g9QoUmp4",
        "outputId": "22e0f36e-743d-427b-d42e-927be2d2f5ec"
      },
      "execution_count": null,
      "outputs": [
        {
          "output_type": "stream",
          "name": "stderr",
          "text": [
            "ERROR:root:This is the error message\n",
            "WARNING:root:This is the warning message\n"
          ]
        }
      ]
    },
    {
      "cell_type": "code",
      "source": [
        "# 8) Write a program to handle a file opening error using exception handling\n",
        "\n",
        "try:\n",
        "  file = open(\"f.txt\", \"r\")\n",
        "  f.close()\n",
        "except FileNotFoundError as e:\n",
        "  print(\"File not in directory\")\n",
        "\n"
      ],
      "metadata": {
        "id": "qLq3caI8WDH9",
        "colab": {
          "base_uri": "https://localhost:8080/"
        },
        "outputId": "5ff5bd73-2fb3-4ff7-98ec-c75a06a080ad"
      },
      "execution_count": null,
      "outputs": [
        {
          "output_type": "stream",
          "name": "stdout",
          "text": [
            "File not in directory\n"
          ]
        }
      ]
    },
    {
      "cell_type": "code",
      "source": [
        "# 9) How can you read a file line by line and store its content in a list in Python ?\n",
        "\n",
        "with open(\"file.txt\", \"r\") as f1:\n",
        "  c = f1.readlines()\n",
        "  print(c)"
      ],
      "metadata": {
        "colab": {
          "base_uri": "https://localhost:8080/"
        },
        "id": "ltlSquXjXdCK",
        "outputId": "0ca0ef53-30dd-4f92-f454-05090eba9f95"
      },
      "execution_count": null,
      "outputs": [
        {
          "output_type": "stream",
          "name": "stdout",
          "text": [
            "['Hello World This is Naman Singh Rajput']\n"
          ]
        }
      ]
    },
    {
      "cell_type": "code",
      "source": [
        "# 10) How can you append data to an existing file in Python ?\n",
        "\n",
        "f2 = open(\"file.txt\", \"a\")\n",
        "f2.write(\" How are you ?\")\n",
        "f2.close()\n",
        "f3 = open(\"file.txt\", \"r\")\n",
        "print(f3.readlines())\n",
        "f3.close()\n"
      ],
      "metadata": {
        "colab": {
          "base_uri": "https://localhost:8080/"
        },
        "id": "kKf1NW9ZY3VT",
        "outputId": "cac5bd2e-951c-4593-9f18-6bc2589e5b63"
      },
      "execution_count": 23,
      "outputs": [
        {
          "output_type": "stream",
          "name": "stdout",
          "text": [
            "['Hello World This is Naman Singh Rajput How are you ?']\n"
          ]
        }
      ]
    },
    {
      "cell_type": "code",
      "source": [
        "# 11)  Write a Python program that uses a try-except block to handle an error when attempting to access a\n",
        "#        dictionary key that doesn't exist\n",
        "\n",
        "\n",
        "d = {\"Name\" : \"Naman\", \"Age\" : 17, \"City\" : \"Kolkata\"}\n",
        "try:\n",
        "  print(\"Email:\", d[\"Email\"])\n",
        "except KeyError as e:\n",
        "  print(\"There is no key called email\")"
      ],
      "metadata": {
        "id": "ukPQJ840ZBpb",
        "colab": {
          "base_uri": "https://localhost:8080/"
        },
        "outputId": "61de51f6-fc2a-4bfc-9127-a1c1c464a6ce"
      },
      "execution_count": 20,
      "outputs": [
        {
          "output_type": "stream",
          "name": "stdout",
          "text": [
            "There is no key called email\n"
          ]
        }
      ]
    },
    {
      "cell_type": "code",
      "source": [
        "# 12) Write a program that demonstrates using multiple except blocks to handle different types of exceptions\n",
        "\n",
        "try:\n",
        "  5 / 0\n",
        "  5 / \"2\"\n",
        "except (ZeroDivisionError, TypeError) as e:\n",
        "  print(\"The number cannot be divided by 0 or any other data type\")"
      ],
      "metadata": {
        "colab": {
          "base_uri": "https://localhost:8080/"
        },
        "id": "c2idY6DBzcGp",
        "outputId": "00045edd-c1d2-4f2d-e31b-3509569bc01f"
      },
      "execution_count": 21,
      "outputs": [
        {
          "output_type": "stream",
          "name": "stdout",
          "text": [
            "The number cannot be divided by 0 or any other data type\n"
          ]
        }
      ]
    },
    {
      "cell_type": "code",
      "source": [
        "# 13) How would you check if a file exists before attempting to read it in Python\n",
        "\n",
        "import os\n",
        "\n",
        "if os.path.exists(\"my_file.txt.\"):\n",
        "  with open(\"my_file.txt\", \"r\") as f4:\n",
        "    con = f4.readlines()\n",
        "else:\n",
        "  print(\"No such file exists\")"
      ],
      "metadata": {
        "colab": {
          "base_uri": "https://localhost:8080/"
        },
        "id": "VLOyiVqbzwoL",
        "outputId": "ee412607-cb53-4209-a61c-75b0bbcf1fca"
      },
      "execution_count": 24,
      "outputs": [
        {
          "output_type": "stream",
          "name": "stdout",
          "text": [
            "No such file exists\n"
          ]
        }
      ]
    },
    {
      "cell_type": "code",
      "source": [
        "from sre_constants import INFO\n",
        "# 14) Write a program that uses the logging module to log both informational and error messages\n",
        "\n",
        "import logging\n",
        "logging.basicConfig(filename=\"new_log.log\", level=INFO, format=\"%(asctime)s - %(levelname)s - %(message)s\")\n",
        "logging.info(\"This is the info message\")\n",
        "logging.warning(\"This is a warning message\")\n",
        "logging.error(\"This is the error message\")\n"
      ],
      "metadata": {
        "colab": {
          "base_uri": "https://localhost:8080/"
        },
        "id": "Vo4ZSLuE0iEO",
        "outputId": "4f7767ba-caea-479d-a066-27df27fc97b5"
      },
      "execution_count": 27,
      "outputs": [
        {
          "output_type": "stream",
          "name": "stderr",
          "text": [
            "WARNING:root:This is a warning message\n",
            "ERROR:root:This is the error message\n"
          ]
        }
      ]
    },
    {
      "cell_type": "code",
      "source": [
        "# 15) Write a Python program that prints the content of a file and handles the case when the file is empty\n",
        "\n",
        "f5 = open(\"text5.txt\", \"w\")\n",
        "f5.write(\"This is a text file\")\n",
        "f5.close()\n",
        "try:\n",
        "  f6 = open(\"Text5\", \"r\")\n",
        "  extract = f6.readlines()\n",
        "  print(extract)\n",
        "  f6.close()\n",
        "except FileNotFoundError as e:\n",
        "  print(\"No such file in the directory\")"
      ],
      "metadata": {
        "colab": {
          "base_uri": "https://localhost:8080/"
        },
        "id": "uzwyvRTO1d-K",
        "outputId": "e82db0a0-71e0-43d0-e147-8713a611fa85"
      },
      "execution_count": 30,
      "outputs": [
        {
          "output_type": "stream",
          "name": "stdout",
          "text": [
            "No such file in the directory\n"
          ]
        }
      ]
    },
    {
      "cell_type": "code",
      "source": [
        "# 16)  Demonstrate how to use memory profiling to check the memory usage of a small program"
      ],
      "metadata": {
        "id": "8WLiLxYS2m4-"
      },
      "execution_count": null,
      "outputs": []
    },
    {
      "cell_type": "code",
      "source": [
        "# 17) Write a Python program to create and write a list of numbers to a file, one number per line\n",
        "\n",
        "numbers = [10, 20, 30, 40, 50, 60]\n",
        "\n",
        "with open(\"number.txt\", \"w\") as f7:\n",
        "  for number in numbers:\n",
        "    f7.write(f\"{number}\" \"\\n\")\n",
        "print(\"Number added successfully\")"
      ],
      "metadata": {
        "colab": {
          "base_uri": "https://localhost:8080/"
        },
        "id": "TKNbQ-fG3Y8v",
        "outputId": "b41763a1-f316-4439-d330-5459b876e7b8"
      },
      "execution_count": 40,
      "outputs": [
        {
          "output_type": "stream",
          "name": "stdout",
          "text": [
            "Number added successfully\n"
          ]
        }
      ]
    },
    {
      "cell_type": "code",
      "source": [
        "# 18) How would you implement a basic logging setup that logs to a file with rotation after 1MB"
      ],
      "metadata": {
        "id": "oyxl4XMd49eX"
      },
      "execution_count": null,
      "outputs": []
    },
    {
      "cell_type": "code",
      "source": [
        "# 19) Write a program that handles both IndexError and KeyError using a try-except block\n",
        "\n",
        "d = {\"Name\" : \"Naman\", \"Age\" : 17, \"City\" : \"Kolkata\"}\n",
        "l = [1, 5, 6, 8, 9]\n",
        "try:\n",
        "  print(\"Email:\", d[\"Email\"])\n",
        "  print(l[10])\n",
        "except (KeyError, IndexError) as e:\n",
        "  print(\"There is no such key and no such index as tried to be extracted\")"
      ],
      "metadata": {
        "colab": {
          "base_uri": "https://localhost:8080/"
        },
        "id": "eJWrYpWh5JiR",
        "outputId": "a9c7563f-8202-4858-df94-c569a17e10ce"
      },
      "execution_count": 41,
      "outputs": [
        {
          "output_type": "stream",
          "name": "stdout",
          "text": [
            "There is no such key and no such index as tried to be extracted\n"
          ]
        }
      ]
    },
    {
      "cell_type": "code",
      "source": [
        "# 20) How would you open a file and read its contents using a context manager in Python ?\n",
        "\n",
        "with open(\"file.txt\", \"r\") as f9:\n",
        "  context_manager = f9.readlines()\n",
        "\n",
        "print(context_manager)"
      ],
      "metadata": {
        "colab": {
          "base_uri": "https://localhost:8080/"
        },
        "id": "Htx9OSyP6__K",
        "outputId": "9ef599cc-ea02-4969-d673-f93e3b84c7fa"
      },
      "execution_count": 46,
      "outputs": [
        {
          "output_type": "stream",
          "name": "stdout",
          "text": [
            "['Hello World This is Naman Singh Rajput']\n"
          ]
        }
      ]
    },
    {
      "cell_type": "code",
      "source": [
        "# 21) Write a Python program that reads a file and prints the number of occurrences of a specific word"
      ],
      "metadata": {
        "id": "ylwNxW-q74TE"
      },
      "execution_count": null,
      "outputs": []
    },
    {
      "cell_type": "code",
      "source": [
        "# 22)  How can you check if a file is empty before attempting to read its contents\n",
        "\n",
        "import os\n",
        "\n",
        "if os.path.exists(\"my_file.txt.\"):\n",
        "  with open(\"my_file.txt\", \"r\") as f4:\n",
        "    con = f4.readlines()\n",
        "else:\n",
        "  print(\"No such file exists\")"
      ],
      "metadata": {
        "colab": {
          "base_uri": "https://localhost:8080/"
        },
        "id": "F1rqAnJR9ANx",
        "outputId": "e4dc6365-71b5-451d-d294-3a182d4913f5"
      },
      "execution_count": 49,
      "outputs": [
        {
          "output_type": "stream",
          "name": "stdout",
          "text": [
            "No such file exists\n"
          ]
        }
      ]
    },
    {
      "cell_type": "code",
      "source": [
        "# 23)  Write a Python program that writes to a log file when an error occurs during file handling\n"
      ],
      "metadata": {
        "id": "KvwnUY9I9RTv"
      },
      "execution_count": null,
      "outputs": []
    }
  ]
}